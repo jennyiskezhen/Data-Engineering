{
 "cells": [
  {
   "cell_type": "code",
   "execution_count": 1,
   "id": "1786fb52-024e-4ccf-9f7c-7011d7ff5027",
   "metadata": {},
   "outputs": [],
   "source": [
    "import pyspark\n",
    "from pyspark.sql import SparkSession\n",
    "from pyspark.sql import types\n",
    "from pyspark.sql import functions as F"
   ]
  },
  {
   "cell_type": "code",
   "execution_count": 2,
   "id": "153a8431-13b4-446e-bc72-81009184bb48",
   "metadata": {},
   "outputs": [
    {
     "name": "stderr",
     "output_type": "stream",
     "text": [
      "Setting default log level to \"WARN\".\n",
      "To adjust logging level use sc.setLogLevel(newLevel). For SparkR, use setLogLevel(newLevel).\n",
      "25/02/26 10:31:55 WARN NativeCodeLoader: Unable to load native-hadoop library for your platform... using builtin-java classes where applicable\n"
     ]
    }
   ],
   "source": [
    "spark = SparkSession.builder \\\n",
    "    .master(\"local[*]\") \\\n",
    "    .appName('test') \\\n",
    "    .getOrCreate()"
   ]
  },
  {
   "cell_type": "code",
   "execution_count": 3,
   "id": "1b7fd25f-db31-4f4c-a80d-5990d442f738",
   "metadata": {},
   "outputs": [],
   "source": [
    "spark.conf.set(\"spark.sql.session.timeZone\", \"Europe/Berlin\")"
   ]
  },
  {
   "cell_type": "markdown",
   "id": "50b84f0e-f197-4959-9566-c1a96401d670",
   "metadata": {},
   "source": [
    "#### 1. Check Spark version"
   ]
  },
  {
   "cell_type": "code",
   "execution_count": 4,
   "id": "639f8d17-a13b-416b-8721-e6016366a95f",
   "metadata": {},
   "outputs": [
    {
     "data": {
      "text/plain": [
       "'3.4.4'"
      ]
     },
     "execution_count": 4,
     "metadata": {},
     "output_type": "execute_result"
    }
   ],
   "source": [
    "spark.version"
   ]
  },
  {
   "cell_type": "markdown",
   "id": "0dbb664c-3a07-4eb9-b71c-e4e0523b32fa",
   "metadata": {},
   "source": [
    "#### 2. Check the average size of the Parquet (ending with .parquet extension) Files that were created (in MB)"
   ]
  },
  {
   "cell_type": "code",
   "execution_count": 5,
   "id": "b88f9dd1-77c6-4256-b400-30fe347da5b2",
   "metadata": {},
   "outputs": [],
   "source": [
    "# !wget https://d37ci6vzurychx.cloudfront.net/trip-data/yellow_tripdata_2024-10.parquet"
   ]
  },
  {
   "cell_type": "code",
   "execution_count": 6,
   "id": "7c4857cf-63e9-4a0c-81c5-dd912bd2ecd7",
   "metadata": {},
   "outputs": [
    {
     "name": "stderr",
     "output_type": "stream",
     "text": [
      "                                                                                \r"
     ]
    }
   ],
   "source": [
    "df = spark.read \\\n",
    "    .option(\"header\", \"true\") \\\n",
    "    .parquet('yellow_tripdata_2024-10.parquet')"
   ]
  },
  {
   "cell_type": "code",
   "execution_count": 7,
   "id": "f10dbe44-7d77-446e-9d31-d8f7a10c84fa",
   "metadata": {},
   "outputs": [
    {
     "data": {
      "text/plain": [
       "3833771"
      ]
     },
     "execution_count": 7,
     "metadata": {},
     "output_type": "execute_result"
    }
   ],
   "source": [
    "df.count()"
   ]
  },
  {
   "cell_type": "code",
   "execution_count": 8,
   "id": "8d637b49-e26d-43eb-b72c-da3170b5d240",
   "metadata": {},
   "outputs": [
    {
     "data": {
      "text/plain": [
       "StructType([StructField('VendorID', IntegerType(), True), StructField('tpep_pickup_datetime', TimestampNTZType(), True), StructField('tpep_dropoff_datetime', TimestampNTZType(), True), StructField('passenger_count', LongType(), True), StructField('trip_distance', DoubleType(), True), StructField('RatecodeID', LongType(), True), StructField('store_and_fwd_flag', StringType(), True), StructField('PULocationID', IntegerType(), True), StructField('DOLocationID', IntegerType(), True), StructField('payment_type', LongType(), True), StructField('fare_amount', DoubleType(), True), StructField('extra', DoubleType(), True), StructField('mta_tax', DoubleType(), True), StructField('tip_amount', DoubleType(), True), StructField('tolls_amount', DoubleType(), True), StructField('improvement_surcharge', DoubleType(), True), StructField('total_amount', DoubleType(), True), StructField('congestion_surcharge', DoubleType(), True), StructField('Airport_fee', DoubleType(), True)])"
      ]
     },
     "execution_count": 8,
     "metadata": {},
     "output_type": "execute_result"
    }
   ],
   "source": [
    "df.schema"
   ]
  },
  {
   "cell_type": "code",
   "execution_count": 9,
   "id": "f6441818-fd18-473e-818a-c06e534c701f",
   "metadata": {},
   "outputs": [],
   "source": [
    "schema = types.StructType([\n",
    "    types.StructField('VendorID', types.IntegerType(), True), \n",
    "    types.StructField('tpep_pickup_datetime', types.TimestampType(), True), \n",
    "    types.StructField('tpep_dropoff_datetime', types.TimestampType(), True), \n",
    "    types.StructField('passenger_count', types.LongType(), True), \n",
    "    types.StructField('trip_distance', types.DoubleType(), True), \n",
    "    types.StructField('RatecodeID', types.LongType(), True), \n",
    "    types.StructField('store_and_fwd_flag', types.StringType(), True), \n",
    "    types.StructField('PULocationID', types.IntegerType(), True), \n",
    "    types.StructField('DOLocationID', types.IntegerType(), True), \n",
    "    types.StructField('payment_type', types.LongType(), True), \n",
    "    types.StructField('fare_amount', types.DoubleType(), True), \n",
    "    types.StructField('extra', types.DoubleType(), True), \n",
    "    types.StructField('mta_tax', types.DoubleType(), True), \n",
    "    types.StructField('tip_amount', types.DoubleType(), True), \n",
    "    types.StructField('tolls_amount', types.DoubleType(), True), \n",
    "    types.StructField('improvement_surcharge', types.DoubleType(), True), \n",
    "    types.StructField('total_amount', types.DoubleType(), True), \n",
    "    types.StructField('congestion_surcharge', types.DoubleType(), True), \n",
    "    types.StructField('Airport_fee', types.DoubleType(), True)])"
   ]
  },
  {
   "cell_type": "code",
   "execution_count": 10,
   "id": "0199ab20-3f0f-4841-9c0a-7e42442b9849",
   "metadata": {},
   "outputs": [],
   "source": [
    "df = spark.read \\\n",
    "    .option(\"header\", \"true\") \\\n",
    "    .schema(schema) \\\n",
    "    .parquet('yellow_tripdata_2024-10.parquet')"
   ]
  },
  {
   "cell_type": "code",
   "execution_count": 11,
   "id": "a567c19b-4d25-4cb8-96b9-f4ce0d6ffd5a",
   "metadata": {},
   "outputs": [
    {
     "name": "stderr",
     "output_type": "stream",
     "text": [
      "                                                                                \r"
     ]
    }
   ],
   "source": [
    "output_path = f'data/pq/yellow/2024/10/'\n",
    "\n",
    "df \\\n",
    ".repartition(4) \\\n",
    ".write.parquet(output_path, mode='overwrite')"
   ]
  },
  {
   "cell_type": "code",
   "execution_count": 12,
   "id": "f8a6bf82-5390-4591-96c0-4ea5ced636d1",
   "metadata": {},
   "outputs": [],
   "source": [
    "df_yellow = spark.read.parquet('data/pq/yellow/2024/10')"
   ]
  },
  {
   "cell_type": "code",
   "execution_count": 13,
   "id": "d81cf739-ec96-4a9c-860e-85b3593a5caf",
   "metadata": {},
   "outputs": [
    {
     "data": {
      "text/plain": [
       "['VendorID',\n",
       " 'tpep_pickup_datetime',\n",
       " 'tpep_dropoff_datetime',\n",
       " 'passenger_count',\n",
       " 'trip_distance',\n",
       " 'RatecodeID',\n",
       " 'store_and_fwd_flag',\n",
       " 'PULocationID',\n",
       " 'DOLocationID',\n",
       " 'payment_type',\n",
       " 'fare_amount',\n",
       " 'extra',\n",
       " 'mta_tax',\n",
       " 'tip_amount',\n",
       " 'tolls_amount',\n",
       " 'improvement_surcharge',\n",
       " 'total_amount',\n",
       " 'congestion_surcharge',\n",
       " 'Airport_fee']"
      ]
     },
     "execution_count": 13,
     "metadata": {},
     "output_type": "execute_result"
    }
   ],
   "source": [
    "df_yellow.columns"
   ]
  },
  {
   "cell_type": "code",
   "execution_count": 14,
   "id": "015d046e-88af-4b18-afbe-b6f0eb77e98a",
   "metadata": {},
   "outputs": [
    {
     "data": {
      "text/plain": [
       "3833771"
      ]
     },
     "execution_count": 14,
     "metadata": {},
     "output_type": "execute_result"
    }
   ],
   "source": [
    "df_yellow.count()"
   ]
  },
  {
   "cell_type": "code",
   "execution_count": 15,
   "id": "e8405834-0f29-4640-9ac5-41c3c64b79ed",
   "metadata": {
    "scrolled": true
   },
   "outputs": [],
   "source": [
    "tz = spark.conf.get(\"spark.sql.session.timeZone\")\n",
    "df_yellow = df_yellow \\\n",
    ".withColumn('pickup_date', F.to_date(df_yellow.tpep_pickup_datetime)) \\\n",
    ".withColumn('dropoff_date', F.to_date(df_yellow.tpep_dropoff_datetime)) \\\n",
    ".select('tpep_pickup_datetime','pickup_date', 'tpep_dropoff_datetime','dropoff_date', 'PULocationID', 'DOLocationID') \\\n",
    ".sort(['tpep_pickup_datetime'], ascending= True)"
   ]
  },
  {
   "cell_type": "code",
   "execution_count": 16,
   "id": "b01222f3-e610-4c3b-945e-d400ab611cd4",
   "metadata": {},
   "outputs": [
    {
     "name": "stderr",
     "output_type": "stream",
     "text": [
      "[Stage 11:>                                                         (0 + 4) / 4]\r"
     ]
    },
    {
     "name": "stdout",
     "output_type": "stream",
     "text": [
      "+--------------------+-----------+---------------------+------------+------------+------------+\n",
      "|tpep_pickup_datetime|pickup_date|tpep_dropoff_datetime|dropoff_date|PULocationID|DOLocationID|\n",
      "+--------------------+-----------+---------------------+------------+------------+------------+\n",
      "| 2024-10-15 23:59:59| 2024-10-15|  2024-10-16 00:10:46|  2024-10-16|          79|         162|\n",
      "| 2024-10-15 23:59:58| 2024-10-15|  2024-10-16 00:05:17|  2024-10-16|         142|         143|\n",
      "| 2024-10-15 23:59:58| 2024-10-15|  2024-10-16 00:06:52|  2024-10-16|         114|         231|\n",
      "| 2024-10-15 23:59:57| 2024-10-15|  2024-10-16 00:08:34|  2024-10-16|         239|         151|\n",
      "| 2024-10-15 23:59:57| 2024-10-15|  2024-10-16 00:24:50|  2024-10-16|         161|          79|\n",
      "| 2024-10-15 23:59:57| 2024-10-15|  2024-10-16 00:32:20|  2024-10-16|         230|          49|\n",
      "| 2024-10-15 23:59:57| 2024-10-15|  2024-10-16 00:14:23|  2024-10-16|         138|         233|\n",
      "| 2024-10-15 23:59:57| 2024-10-15|  2024-10-16 00:20:03|  2024-10-16|          48|         236|\n",
      "| 2024-10-15 23:59:57| 2024-10-15|  2024-10-16 00:29:33|  2024-10-16|         138|         239|\n",
      "| 2024-10-15 23:59:55| 2024-10-15|  2024-10-16 00:28:06|  2024-10-16|         186|          25|\n",
      "+--------------------+-----------+---------------------+------------+------------+------------+\n",
      "only showing top 10 rows\n",
      "\n"
     ]
    },
    {
     "name": "stderr",
     "output_type": "stream",
     "text": [
      "                                                                                \r"
     ]
    }
   ],
   "source": [
    "df_yellow \\\n",
    ".filter((F.col('pickup_date') == F.lit('2024-10-15')) & (F.col('dropoff_date') != F.lit('2024-10-15'))) \\\n",
    ".sort(['tpep_pickup_datetime'], ascending= False) \\\n",
    ".show(10)"
   ]
  },
  {
   "cell_type": "markdown",
   "id": "a76dd0de-981b-4a9e-9905-288dd4d5c16c",
   "metadata": {},
   "source": [
    "#### 3. Check how many taxi trips were there on the 15th of October"
   ]
  },
  {
   "cell_type": "code",
   "execution_count": 17,
   "id": "d4901024-8e11-4dfd-99cd-4bfd4f99d7b7",
   "metadata": {},
   "outputs": [
    {
     "name": "stderr",
     "output_type": "stream",
     "text": [
      "                                                                                \r"
     ]
    },
    {
     "data": {
      "text/plain": [
       "123221"
      ]
     },
     "execution_count": 17,
     "metadata": {},
     "output_type": "execute_result"
    }
   ],
   "source": [
    "tz = spark.conf.get(\"spark.sql.session.timeZone\")\n",
    "df_yellow \\\n",
    ".select('pickup_date', 'dropoff_date', 'PULocationID', 'DOLocationID') \\\n",
    ".filter((F.col('pickup_date') == F.lit('2024-10-15')) & (F.col('dropoff_date') == F.lit('2024-10-15'))) \\\n",
    ".count()"
   ]
  },
  {
   "cell_type": "code",
   "execution_count": 18,
   "id": "f180e004-1ed5-4dc6-9ae4-f2adc708f52a",
   "metadata": {},
   "outputs": [],
   "source": [
    "#### 4. Check the length of the longest trip in the dataset in hours"
   ]
  },
  {
   "cell_type": "code",
   "execution_count": 19,
   "id": "8f16ead1-5572-4d09-bd89-9c51de93a249",
   "metadata": {
    "scrolled": true
   },
   "outputs": [
    {
     "name": "stderr",
     "output_type": "stream",
     "text": [
      "[Stage 15:=============================>                            (2 + 2) / 4]\r"
     ]
    },
    {
     "name": "stdout",
     "output_type": "stream",
     "text": [
      "+--------------------+---------------------+-------------+------------------+\n",
      "|tpep_pickup_datetime|tpep_dropoff_datetime|DiffInSeconds|       DiffInHours|\n",
      "+--------------------+---------------------+-------------+------------------+\n",
      "| 2024-10-16 15:03:49|  2024-10-23 09:40:53|       585424|162.61777777777777|\n",
      "| 2024-10-03 20:47:25|  2024-10-09 20:06:55|       515970|           143.325|\n",
      "| 2024-10-22 18:00:55|  2024-10-28 10:46:33|       495938|137.76055555555556|\n",
      "| 2024-10-18 11:53:32|  2024-10-23 06:43:37|       413405|114.83472222222223|\n",
      "| 2024-10-21 02:36:24|  2024-10-24 20:30:18|       323634| 89.89833333333333|\n",
      "+--------------------+---------------------+-------------+------------------+\n",
      "only showing top 5 rows\n",
      "\n"
     ]
    },
    {
     "name": "stderr",
     "output_type": "stream",
     "text": [
      "                                                                                \r"
     ]
    }
   ],
   "source": [
    "df_yellow \\\n",
    "    .select('tpep_pickup_datetime','tpep_dropoff_datetime') \\\n",
    "    .withColumn('DiffInSeconds',F.unix_timestamp('tpep_dropoff_datetime') - F.unix_timestamp('tpep_pickup_datetime')) \\\n",
    "    .withColumn('DiffInHours',F.col('DiffInSeconds')/3600) \\\n",
    "    .sort('DiffInHours', ascending=False) \\\n",
    "    .show(5)"
   ]
  },
  {
   "cell_type": "code",
   "execution_count": 20,
   "id": "ac088cca-0d6b-4b7c-af36-3e1d6335ea58",
   "metadata": {},
   "outputs": [],
   "source": [
    "df_look = spark.read \\\n",
    "    .option(\"header\", \"true\") \\\n",
    "    .csv('taxi_zone_lookup.csv')"
   ]
  },
  {
   "cell_type": "code",
   "execution_count": 21,
   "id": "f088941d-623c-4e60-917e-add661c2e557",
   "metadata": {
    "scrolled": true
   },
   "outputs": [
    {
     "data": {
      "text/plain": [
       "[Row(LocationID='1', Borough='EWR', Zone='Newark Airport', service_zone='EWR'),\n",
       " Row(LocationID='2', Borough='Queens', Zone='Jamaica Bay', service_zone='Boro Zone'),\n",
       " Row(LocationID='3', Borough='Bronx', Zone='Allerton/Pelham Gardens', service_zone='Boro Zone')]"
      ]
     },
     "execution_count": 21,
     "metadata": {},
     "output_type": "execute_result"
    }
   ],
   "source": [
    "df_look.head(3)"
   ]
  },
  {
   "cell_type": "markdown",
   "id": "03fdd6a2-c8a4-49c0-a7ea-b006aaecc54d",
   "metadata": {},
   "source": [
    "#### 5. Using the zone lookup data and the Yellow October 2024 data, what is the name of the LEAST frequent pickup location Zone?"
   ]
  },
  {
   "cell_type": "code",
   "execution_count": 22,
   "id": "8133f8d3-04db-40d8-968c-28687a9a7b18",
   "metadata": {},
   "outputs": [],
   "source": [
    "df_look.createOrReplaceTempView('lookup_data')"
   ]
  },
  {
   "cell_type": "code",
   "execution_count": 23,
   "id": "7b47655a-2280-491f-af78-02e839c7fcda",
   "metadata": {},
   "outputs": [],
   "source": [
    "df_lookup = spark.sql(\"select LocationID, Zone from lookup_data\")"
   ]
  },
  {
   "cell_type": "code",
   "execution_count": 24,
   "id": "72ccb8fb-94a7-4076-8dde-27cd706b801b",
   "metadata": {},
   "outputs": [],
   "source": [
    "df_result = df_yellow.join(df_lookup, df_yellow.PULocationID == df_lookup.LocationID)"
   ]
  },
  {
   "cell_type": "code",
   "execution_count": 25,
   "id": "ae68184c-dd61-4c96-9b1c-74bda1738c8f",
   "metadata": {},
   "outputs": [
    {
     "name": "stderr",
     "output_type": "stream",
     "text": [
      "[Stage 19:>                                                         (0 + 4) / 4]\r"
     ]
    },
    {
     "name": "stdout",
     "output_type": "stream",
     "text": [
      "+---------------------------------------------+-----+\n",
      "|Zone                                         |count|\n",
      "+---------------------------------------------+-----+\n",
      "|Governor's Island/Ellis Island/Liberty Island|1    |\n",
      "|Rikers Island                                |2    |\n",
      "|Arden Heights                                |2    |\n",
      "|Jamaica Bay                                  |3    |\n",
      "|Green-Wood Cemetery                          |3    |\n",
      "+---------------------------------------------+-----+\n",
      "only showing top 5 rows\n",
      "\n"
     ]
    },
    {
     "name": "stderr",
     "output_type": "stream",
     "text": [
      "                                                                                \r"
     ]
    }
   ],
   "source": [
    "df_result \\\n",
    ".drop('PULocationID','LocationID') \\\n",
    ".select('Zone') \\\n",
    ".groupBy('Zone') \\\n",
    ".count() \\\n",
    ".sort(F.col('count')) \\\n",
    ".show(5, False)"
   ]
  },
  {
   "cell_type": "code",
   "execution_count": null,
   "id": "8c20a1fd-4d39-436f-bffb-d35a96accec3",
   "metadata": {},
   "outputs": [],
   "source": []
  }
 ],
 "metadata": {
  "kernelspec": {
   "display_name": "Python 3 (ipykernel)",
   "language": "python",
   "name": "python3"
  },
  "language_info": {
   "codemirror_mode": {
    "name": "ipython",
    "version": 3
   },
   "file_extension": ".py",
   "mimetype": "text/x-python",
   "name": "python",
   "nbconvert_exporter": "python",
   "pygments_lexer": "ipython3",
   "version": "3.12.2"
  }
 },
 "nbformat": 4,
 "nbformat_minor": 5
}
